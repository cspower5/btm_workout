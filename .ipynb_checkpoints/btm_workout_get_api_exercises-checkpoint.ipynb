{
 "cells": [
  {
   "cell_type": "code",
   "execution_count": 104,
   "id": "962ae854-a7ac-4a92-b705-5e3c97b2dae3",
   "metadata": {},
   "outputs": [],
   "source": [
    "import os\n",
    "import sys\n",
    "import requests\n",
    "import json\n",
    "from btm_workout_db_connect import db\n",
    "\n",
    "# --- Configuration ---\n",
    "# You can adjust these values based on API limits and performance needs.\n",
    "ITEMS_PER_PAGE = 200  # Number of exercises to fetch per request.\n"
   ]
  },
  {
   "cell_type": "code",
   "execution_count": 105,
   "id": "6f965769-ae05-408e-8d72-ca19c4b4bb7e",
   "metadata": {},
   "outputs": [],
   "source": [
    "# 1. Load environment variables from the .env file\n",
    "# This assumes the .env file is in the same directory as this script.\n",
    "load_dotenv()\n",
    "RAPIDAPI_KEY = os.getenv(\"RAPIDAPI_KEY\")\n",
    "if not RAPIDAPI_KEY:\n",
    "    print(\"Error: The RAPIDAPI_KEY environment variable is missing.\")\n",
    "    print(\"Please ensure it is set in your .env file.\")\n",
    "    sys.exit()\n"
   ]
  },
  {
   "cell_type": "code",
   "execution_count": 106,
   "id": "2b0e5942-6586-4264-958f-6fab3e0ece3d",
   "metadata": {},
   "outputs": [
    {
     "name": "stdout",
     "output_type": "stream",
     "text": [
      "Connected to database 'btm_workout_db' and collection 'exercises'.\n"
     ]
    }
   ],
   "source": [
    "# 3. Check if the database connection was successful.\n",
    "if db is None:\n",
    "    print(\"Error: The database connection failed. Cannot proceed with API data insertion.\")\n",
    "    sys.exit()\n",
    "\n",
    "# Get the collection object directly from the imported 'db' object.\n",
    "exercises_collection = db['exercises']\n",
    "print(f\"Connected to database '{db.name}' and collection '{exercises_collection.name}'.\")"
   ]
  },
  {
   "cell_type": "code",
   "execution_count": 107,
   "id": "62c40c51-0370-4d36-8847-9dda3e5cb1fe",
   "metadata": {},
   "outputs": [
    {
     "name": "stdout",
     "output_type": "stream",
     "text": [
      "\n",
      "Starting to retrieve all exercises from the API...\n",
      "Retrieved 10 exercises (offset: 0). Total so far: 10\n",
      "Retrieved 10 exercises (offset: 200). Total so far: 20\n",
      "Retrieved 10 exercises (offset: 400). Total so far: 30\n",
      "Retrieved 10 exercises (offset: 600). Total so far: 40\n",
      "Retrieved 10 exercises (offset: 800). Total so far: 50\n",
      "Retrieved 10 exercises (offset: 1000). Total so far: 60\n",
      "Retrieved 10 exercises (offset: 1200). Total so far: 70\n",
      "End of exercises reached. All pages retrieved.\n"
     ]
    }
   ],
   "source": [
    "# 4. Retrieve all exercises from the API using pagination\n",
    "print(\"\\nStarting to retrieve all exercises from the API...\")\n",
    "all_exercises = []\n",
    "offset = 0\n",
    "headers = {\n",
    "    'X-RapidAPI-Key': RAPIDAPI_KEY,\n",
    "    'X-RapidAPI-Host': \"exercisedb.p.rapidapi.com\"\n",
    "}\n",
    "\n",
    "while True:\n",
    "    url = f\"https://exercisedb.p.rapidapi.com/exercises?limit={ITEMS_PER_PAGE}&offset={offset}\"\n",
    "    \n",
    "    try:\n",
    "        response = requests.get(url, headers=headers)\n",
    "        response.raise_for_status()\n",
    "        page_data = response.json()\n",
    "        \n",
    "        if not page_data:\n",
    "            print(\"End of exercises reached. All pages retrieved.\")\n",
    "            break\n",
    "            \n",
    "        all_exercises.extend(page_data)\n",
    "        print(f\"Retrieved {len(page_data)} exercises (offset: {offset}). Total so far: {len(all_exercises)}\")\n",
    "        \n",
    "        offset += ITEMS_PER_PAGE\n",
    "        \n",
    "        # Optional: Add a small delay to avoid hitting API rate limits.\n",
    "        # time.sleep(1)\n",
    "\n",
    "    except requests.exceptions.RequestException as e:\n",
    "        print(f\"Error connecting to the API: {e}\")\n",
    "        break\n",
    "    except json.JSONDecodeError:\n",
    "        print(\"Error: Could not decode JSON from API response.\")\n",
    "        break\n",
    "    except Exception as e:\n",
    "        print(f\"An unexpected error occurred: {e}\")\n",
    "        break\n"
   ]
  },
  {
   "cell_type": "code",
   "execution_count": 108,
   "id": "530027fc-6feb-4950-be61-42cd0c346a4f",
   "metadata": {},
   "outputs": [
    {
     "name": "stdout",
     "output_type": "stream",
     "text": [
      "\n",
      "Successfully inserted 70 new documents into MongoDB.\n",
      "Total number of exercises in the database: 70\n"
     ]
    }
   ],
   "source": [
    "# 5. Insert data into MongoDB\n",
    "if all_exercises:\n",
    "    try:\n",
    "        # Clear existing data to avoid duplicates\n",
    "        exercises_collection.delete_many({})\n",
    "        \n",
    "        # Insert all new exercises\n",
    "        insert_result = exercises_collection.insert_many(all_exercises)\n",
    "        print(f\"\\nSuccessfully inserted {len(insert_result.inserted_ids)} new documents into MongoDB.\")\n",
    "    except Exception as e:\n",
    "        print(f\"\\nFailed to insert data into MongoDB: {e}\")\n",
    "else:\n",
    "    print(\"\\nNo exercises were retrieved from the API. Skipping insertion.\")\n",
    "\n",
    "# 7. Count documents in the local MongoDB database and print the total\n",
    "total_documents = exercises_collection.count_documents({})\n",
    "print(f\"Total number of exercises in the database: {total_documents}\")\n"
   ]
  },
  {
   "cell_type": "code",
   "execution_count": 109,
   "id": "b938bcac-3dc6-42d7-9b93-80254f9e0cdf",
   "metadata": {},
   "outputs": [
    {
     "name": "stdout",
     "output_type": "stream",
     "text": [
      "MongoDB connection closed.\n"
     ]
    }
   ],
   "source": [
    "# 7. Close the connection\n",
    "if client:\n",
    "    client.close()\n",
    "    print(\"MongoDB connection closed.\")"
   ]
  }
 ],
 "metadata": {
  "kernelspec": {
   "display_name": "Python 3 (ipykernel)",
   "language": "python",
   "name": "python3"
  },
  "language_info": {
   "codemirror_mode": {
    "name": "ipython",
    "version": 3
   },
   "file_extension": ".py",
   "mimetype": "text/x-python",
   "name": "python",
   "nbconvert_exporter": "python",
   "pygments_lexer": "ipython3",
   "version": "3.12.3"
  }
 },
 "nbformat": 4,
 "nbformat_minor": 5
}
