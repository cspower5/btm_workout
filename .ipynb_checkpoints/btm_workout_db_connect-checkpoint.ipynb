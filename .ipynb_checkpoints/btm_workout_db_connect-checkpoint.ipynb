{
 "cells": [
  {
   "cell_type": "code",
   "execution_count": null,
   "id": "005f78b0-6ed4-436f-947b-fd7d02adc788",
   "metadata": {},
   "outputs": [],
   "source": [
    "import os\n",
    "from dotenv import load_dotenv\n",
    "from urllib.parse import quote_plus\n",
    "import pymongo\n",
    "\n",
    "# 1. Load environment variables\n",
    "load_dotenv()\n",
    "\n",
    "# 2. Check for the necessary environment variables\n",
    "# You can define a function to handle this check.\n",
    "def get_mongo_uri():\n",
    "    \"\"\"\n",
    "    Constructs and returns the MongoDB connection URI.\n",
    "    Exits with an error if required environment variables are missing.\n",
    "    \"\"\"\n",
    "    MONGO_USER = os.getenv(\"MONGO_USER\")\n",
    "    MONGO_PASS = os.getenv(\"MONGO_PASS\")\n",
    "    MONGO_HOST = os.getenv(\"MONGO_HOST\")\n",
    "    MONGO_DB = os.getenv(\"MONGO_DB\")\n",
    "\n",
    "    if not all([MONGO_USER, MONGO_PASS, MONGO_HOST, MONGO_DB]):\n",
    "        print(\"Error: One or more required environment variables are missing.\")\n",
    "        print(\"Please ensure MONGO_USER, MONGO_PASS, MONGO_HOST, and MONGO_DB are set.\")\n",
    "        exit(1)\n",
    "\n",
    "    encoded_password = quote_plus(MONGO_PASS)\n",
    "    return f\"mongodb://{MONGO_USER}:{encoded_password}@{MONGO_HOST}/{MONGO_DB}\"\n",
    "\n",
    "# 3. Create a single connection object\n",
    "try:\n",
    "    # We can create a client object directly and reuse it.\n",
    "    MONGO_URI = get_mongo_uri()\n",
    "    client = pymongo.MongoClient(MONGO_URI)\n",
    "    db = client.get_database() # Get the database object\n",
    "\n",
    "except pymongo.errors.ConnectionFailure as e:\n",
    "    print(f\"Error: Could not connect to MongoDB. {e}\")\n",
    "    exit(1)"
   ]
  }
 ],
 "metadata": {
  "kernelspec": {
   "display_name": "Python 3 (ipykernel)",
   "language": "python",
   "name": "python3"
  },
  "language_info": {
   "codemirror_mode": {
    "name": "ipython",
    "version": 3
   },
   "file_extension": ".py",
   "mimetype": "text/x-python",
   "name": "python",
   "nbconvert_exporter": "python",
   "pygments_lexer": "ipython3",
   "version": "3.12.3"
  }
 },
 "nbformat": 4,
 "nbformat_minor": 5
}
