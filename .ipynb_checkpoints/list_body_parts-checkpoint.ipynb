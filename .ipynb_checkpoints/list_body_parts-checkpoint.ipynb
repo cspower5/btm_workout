{
 "cells": [
  {
   "cell_type": "code",
   "execution_count": 6,
   "id": "1b0eb5ad-edef-4881-ba8a-37da6376b289",
   "metadata": {},
   "outputs": [
    {
     "ename": "ModuleNotFoundError",
     "evalue": "No module named 'btm_workout_db_connect'",
     "output_type": "error",
     "traceback": [
      "\u001b[31m---------------------------------------------------------------------------\u001b[39m",
      "\u001b[31mModuleNotFoundError\u001b[39m                       Traceback (most recent call last)",
      "\u001b[36mCell\u001b[39m\u001b[36m \u001b[39m\u001b[32mIn[6]\u001b[39m\u001b[32m, line 3\u001b[39m\n\u001b[32m      1\u001b[39m \u001b[38;5;28;01mimport\u001b[39;00m\u001b[38;5;250m \u001b[39m\u001b[34;01msys\u001b[39;00m\n\u001b[32m      2\u001b[39m \u001b[38;5;28;01mfrom\u001b[39;00m\u001b[38;5;250m \u001b[39m\u001b[34;01mflask\u001b[39;00m\u001b[38;5;250m \u001b[39m\u001b[38;5;28;01mimport\u001b[39;00m Flask, jsonify\n\u001b[32m----> \u001b[39m\u001b[32m3\u001b[39m \u001b[38;5;28;01mfrom\u001b[39;00m\u001b[38;5;250m \u001b[39m\u001b[34;01mbtm_workout_db_connect\u001b[39;00m\u001b[38;5;250m \u001b[39m\u001b[38;5;28;01mimport\u001b[39;00m db\n\u001b[32m      5\u001b[39m \u001b[38;5;66;03m# Initialize the Flask application.\u001b[39;00m\n\u001b[32m      6\u001b[39m app = Flask(\u001b[34m__name__\u001b[39m)\n",
      "\u001b[31mModuleNotFoundError\u001b[39m: No module named 'btm_workout_db_connect'"
     ]
    }
   ],
   "source": [
    "import sys\n",
    "from flask import Flask, jsonify\n",
    "from btm_workout_db_connect import db\n",
    "\n",
    "# Initialize the Flask application.\n",
    "app = Flask(__name__)\n",
    "\n",
    "# Check for a successful database connection when the app starts.\n",
    "# We will use this check to prevent the app from running if the database is not available.\n",
    "if db is None:\n",
    "    print(\"FATAL ERROR: The database connection failed. The application cannot start.\")\n",
    "    sys.exit()\n",
    "\n",
    "@app.route('/api/body_parts', methods=['GET'])\n",
    "def get_body_parts():\n",
    "    \"\"\"\n",
    "    An API endpoint that returns a unique list of all body parts from the exercises collection.\n",
    "    \"\"\"\n",
    "    try:\n",
    "        # Get the exercises collection from the database object.\n",
    "        exercises_collection = db['exercises']\n",
    "        \n",
    "        # Use the 'distinct' method to efficiently get a list of unique bodyPart values.\n",
    "        # This is much faster and more memory-efficient than fetching all documents.\n",
    "        body_parts = exercises_collection.distinct(\"bodyPart\")\n",
    "        \n",
    "        # Return the list as a JSON response.\n",
    "        return jsonify(body_parts)\n",
    "\n",
    "    except Exception as e:\n",
    "        # Log the error and return a 500 Internal Server Error response.\n",
    "        print(f\"An error occurred while fetching body parts: {e}\")\n",
    "        return jsonify({\"error\": \"Failed to retrieve data from the database.\"}), 500\n",
    "\n",
    "if __name__ == '__main__':\n",
    "    # Run the Flask development server.\n",
    "    app.run(port=5000, debug=True)"
   ]
  },
  {
   "cell_type": "code",
   "execution_count": null,
   "id": "4e460966-55aa-46ed-a931-04729b3cd1f9",
   "metadata": {},
   "outputs": [],
   "source": []
  }
 ],
 "metadata": {
  "kernelspec": {
   "display_name": "Python 3 (ipykernel)",
   "language": "python",
   "name": "python3"
  },
  "language_info": {
   "codemirror_mode": {
    "name": "ipython",
    "version": 3
   },
   "file_extension": ".py",
   "mimetype": "text/x-python",
   "name": "python",
   "nbconvert_exporter": "python",
   "pygments_lexer": "ipython3",
   "version": "3.12.3"
  }
 },
 "nbformat": 4,
 "nbformat_minor": 5
}
